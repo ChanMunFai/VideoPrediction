{
 "cells": [
  {
   "cell_type": "code",
   "execution_count": 3,
   "metadata": {},
   "outputs": [],
   "source": [
    "import matplotlib.pyplot as plt\n",
    "import numpy as np\n",
    "from vrnn_loss import plot_losses_VRNN"
   ]
  },
  {
   "cell_type": "markdown",
   "metadata": {},
   "source": [
    "# Outline of training\n",
    "\n",
    "1. Train Beta = 1 for 150 epochs (constant LR = 1e-4) \n",
    "2. Train Beta = 0 for 300 epochs \n",
    "3. Train Beta = 0.1 for ... \n",
    "4. Train Beta = 0.5 for ... \n",
    "5. Train Beta = 0.4 for ... "
   ]
  },
  {
   "cell_type": "markdown",
   "metadata": {},
   "source": [
    "### Deterministic Model\n",
    "\n",
    "Training steps 1 and 2"
   ]
  },
  {
   "cell_type": "code",
   "execution_count": 53,
   "metadata": {},
   "outputs": [],
   "source": [
    "loss_path_1 = '../../logs/VRNN/v1/important/VRNN_v1_beta=1.0_150.log'\n",
    "loss_path_2 = '../../logs/VRNN/v1/important/VRNN_v1_beta=0.0_step=1000000_300.log'\n",
    "\n",
    "loss_path_3a = '../../logs/VRNN/v1/important/VRNN_v1_beta=0.1_step=1000000_100.log'\n",
    "loss_path_3b = '../../logs/VRNN/v1/important/VRNN_v1_beta=0.1_step=1000000_250.log'\n",
    "\n",
    "loss_path4 = '../../logs/VRNN/v1/important/VRNN_v1_beta=0.5_step=1000000_500.log'\n",
    "loss_path5 = '../../logs/VRNN/v1/important/VRNN_v1_beta=0.4_step=1000000_150.log'\n",
    "\n"
   ]
  },
  {
   "cell_type": "code",
   "execution_count": 13,
   "metadata": {},
   "outputs": [],
   "source": [
    "def plot_losses_VRNN(log_path):\n",
    "    \"\"\"\n",
    "    Log files for other models may be formatted differently\n",
    "    \"\"\"\n",
    "\n",
    "    losses = []\n",
    "\n",
    "    with open(log_path) as f:\n",
    "        # ignore first line\n",
    "        for idx, line in enumerate(f):\n",
    "            if \"Namespace\" in line or \"Starting\" in line or \"Train\" in line: \n",
    "                pass\n",
    "            elif \"Finished\" in line or \"Saved\" in line:\n",
    "                pass\n",
    "            else:\n",
    "                x = line.split(\":\")[-1]\n",
    "                x = x.strip(\"\\n\")\n",
    "                losses.append(x)\n",
    "\n",
    "    train_loss = []\n",
    "    kld = []\n",
    "    reconstruction_loss = []\n",
    "\n",
    "    for line in losses:\n",
    "        line = line.split(\",\")\n",
    "        train_loss.append(float(line[0]))\n",
    "        kld.append(float(line[1]))\n",
    "        reconstruction_loss.append(float(line[2]))\n",
    "\n",
    "    return train_loss, kld, reconstruction_loss"
   ]
  },
  {
   "cell_type": "code",
   "execution_count": 18,
   "metadata": {},
   "outputs": [
    {
     "name": "stdout",
     "output_type": "stream",
     "text": [
      "150 150 150\n"
     ]
    }
   ],
   "source": [
    "train_loss1, kld1, mse1 = plot_losses_VRNN(loss_path_1)\n",
    "print(len(train_loss1), len(kld1), len(mse1))"
   ]
  },
  {
   "cell_type": "code",
   "execution_count": 22,
   "metadata": {},
   "outputs": [
    {
     "data": {
      "image/png": "[encoded data removed]",
      "text/plain": [
       "<Figure size 432x288 with 1 Axes>"
      ]
     },
     "metadata": {
      "needs_background": "light"
     },
     "output_type": "display_data"
    }
   ],
   "source": [
    "plt.plot(train_loss1)\n",
    "plt.plot(kld1)\n",
    "plt.plot(mse1)\n",
    "plt.show()"
   ]
  },
  {
   "cell_type": "code",
   "execution_count": 24,
   "metadata": {},
   "outputs": [
    {
     "name": "stdout",
     "output_type": "stream",
     "text": [
      "300 300 300\n"
     ]
    }
   ],
   "source": [
    "train_loss2, kld2, mse2 = plot_losses_VRNN(loss_path_2)\n",
    "print(len(train_loss2), len(kld2), len(mse2))"
   ]
  },
  {
   "cell_type": "code",
   "execution_count": 25,
   "metadata": {},
   "outputs": [
    {
     "data": {
      "image/png": "[encoded data removed]",
      "text/plain": [
       "<Figure size 432x288 with 1 Axes>"
      ]
     },
     "metadata": {
      "needs_background": "light"
     },
     "output_type": "display_data"
    }
   ],
   "source": [
    "plt.plot(train_loss2)\n",
    "plt.plot(kld2)\n",
    "plt.plot(mse2)\n",
    "plt.show()"
   ]
  },
  {
   "cell_type": "markdown",
   "metadata": {},
   "source": [
    "### Stochastic Model \n",
    "\n",
    "Steps 3, 4, 5"
   ]
  },
  {
   "cell_type": "code",
   "execution_count": 52,
   "metadata": {},
   "outputs": [
    {
     "name": "stdout",
     "output_type": "stream",
     "text": [
      "350 350 350\n"
     ]
    }
   ],
   "source": [
    "# Step 3\n",
    "train_loss3a, kld3a, mse3a = plot_losses_VRNN(loss_path_3a)\n",
    "train_loss3b, kld3b, mse3b = plot_losses_VRNN(loss_path_3b)\n",
    "\n",
    "train_loss3 = train_loss3a + train_loss3b\n",
    "kld3 = kld3a + kld3b\n",
    "mse3 = mse3a + mse3b\n",
    "\n",
    "print(len(train_loss3), len(kld3), len(mse3))"
   ]
  },
  {
   "cell_type": "code",
   "execution_count": 89,
   "metadata": {},
   "outputs": [
    {
     "name": "stdout",
     "output_type": "stream",
     "text": [
      "400 400 400\n",
      "150 150 150\n"
     ]
    }
   ],
   "source": [
    "# Step 4\n",
    "train_loss4, kld4, mse4 = plot_losses_VRNN(loss_path4)\n",
    "\n",
    "train_loss4 = train_loss4[:400]\n",
    "kld4 = kld4[:400]\n",
    "mse4 = mse4[:400]\n",
    "\n",
    "print(len(train_loss4), len(kld4), len(mse4))\n",
    "\n",
    "# Step 5\n",
    "train_loss5, kld5, mse5 = plot_losses_VRNN(loss_path5)\n",
    "print(len(train_loss5), len(kld5), len(mse5))"
   ]
  },
  {
   "cell_type": "markdown",
   "metadata": {},
   "source": [
    "### Combine all lists together"
   ]
  },
  {
   "cell_type": "code",
   "execution_count": 90,
   "metadata": {},
   "outputs": [],
   "source": [
    "train_loss = train_loss1 + train_loss2 + train_loss3 + train_loss4 + train_loss5\n",
    "kld = kld1 + kld2 + kld3 + kld4 + kld5\n",
    "mse = mse1 + mse2 + mse3 + mse4 + mse5"
   ]
  },
  {
   "cell_type": "code",
   "execution_count": 94,
   "metadata": {},
   "outputs": [
    {
     "data": {
      "text/plain": [
       "<matplotlib.patches.Polygon at 0x7fb100828490>"
      ]
     },
     "execution_count": 94,
     "metadata": {},
     "output_type": "execute_result"
    },
    {
     "data": {
      "image/png": "[encoded data removed]",
      "text/plain": [
       "<Figure size 432x288 with 1 Axes>"
      ]
     },
     "metadata": {
      "needs_background": "light"
     },
     "output_type": "display_data"
    }
   ],
   "source": [
    "plt.plot(train_loss)\n",
    "plt.yscale('log')\n",
    "plt.xlabel('Epochs')\n",
    "plt.title('Total Loss')\n",
    "\n",
    "# Settings \n",
    "plt.xlim(xmin=0, xmax = 1300)\n",
    "plt.axvspan(0, 150, facecolor='b', alpha=0.1)\n",
    "plt.axvspan(151, 450, facecolor='b', alpha=0.2)\n",
    "plt.axvspan(451, 800, facecolor='g', alpha=0.05)\n",
    "plt.axvspan(800, 1200, facecolor='g', alpha=0.1)\n",
    "plt.axvspan(1200, 1300, facecolor='g', alpha=0.2)"
   ]
  },
  {
   "cell_type": "code",
   "execution_count": 93,
   "metadata": {},
   "outputs": [
    {
     "data": {
      "text/plain": [
       "<matplotlib.patches.Polygon at 0x7fb100809790>"
      ]
     },
     "execution_count": 93,
     "metadata": {},
     "output_type": "execute_result"
    },
    {
     "data": {
      "image/png": "[encoded data removed]",
      "text/plain": [
       "<Figure size 432x288 with 1 Axes>"
      ]
     },
     "metadata": {
      "needs_background": "light"
     },
     "output_type": "display_data"
    }
   ],
   "source": [
    "plt.plot(kld)\n",
    "plt.yscale('log')\n",
    "plt.xlabel('Epochs')\n",
    "plt.title('KLD Divergence')\n",
    "\n",
    "# Settings \n",
    "plt.xlim(xmin=0, xmax = 1300)\n",
    "plt.axvspan(0, 150, facecolor='b', alpha=0.1)\n",
    "plt.axvspan(151, 450, facecolor='b', alpha=0.2)\n",
    "plt.axvspan(451, 800, facecolor='g', alpha=0.05)\n",
    "plt.axvspan(800, 1200, facecolor='g', alpha=0.1)\n",
    "plt.axvspan(1200, 1300, facecolor='g', alpha=0.2)"
   ]
  },
  {
   "cell_type": "code",
   "execution_count": 92,
   "metadata": {},
   "outputs": [
    {
     "data": {
      "text/plain": [
       "<matplotlib.patches.Polygon at 0x7fb100627f50>"
      ]
     },
     "execution_count": 92,
     "metadata": {},
     "output_type": "execute_result"
    },
    {
     "data": {
      "image/png": "[encoded data removed]",
      "text/plain": [
       "<Figure size 432x288 with 1 Axes>"
      ]
     },
     "metadata": {
      "needs_background": "light"
     },
     "output_type": "display_data"
    }
   ],
   "source": [
    "plt.plot(mse)\n",
    "plt.yscale('log')\n",
    "plt.xlabel('Epochs')\n",
    "plt.title('Mean Squared Error(entire image)')\n",
    "\n",
    "# Settings \n",
    "plt.xlim(xmin=0, xmax = 1300)\n",
    "plt.axvspan(0, 150, facecolor='b', alpha=0.1)\n",
    "plt.axvspan(151, 450, facecolor='b', alpha=0.2)\n",
    "plt.axvspan(451, 800, facecolor='g', alpha=0.05)\n",
    "plt.axvspan(800, 1200, facecolor='g', alpha=0.1)\n",
    "plt.axvspan(1200, 1300, facecolor='g', alpha=0.2)"
   ]
  },
  {
   "cell_type": "markdown",
   "metadata": {},
   "source": []
  }
 ],
 "metadata": {
  "interpreter": {
   "hash": "46fa279ed4f7e0173bbb4df60abc98f0d54517d90d227684db4514501155965b"
  },
  "kernelspec": {
   "display_name": "Python 3.7.4 ('base')",
   "language": "python",
   "name": "python3"
  },
  "language_info": {
   "codemirror_mode": {
    "name": "ipython",
    "version": 3
   },
   "file_extension": ".py",
   "mimetype": "text/x-python",
   "name": "python",
   "nbconvert_exporter": "python",
   "pygments_lexer": "ipython3",
   "version": "3.7.4"
  },
  "orig_nbformat": 4
 },
 "nbformat": 4,
 "nbformat_minor": 2
}
