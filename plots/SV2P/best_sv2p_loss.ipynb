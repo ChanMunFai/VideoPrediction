{
 "cells": [
  {
   "cell_type": "code",
   "execution_count": 1,
   "metadata": {},
   "outputs": [],
   "source": [
    "import matplotlib.pyplot as plt\n",
    "import numpy as np"
   ]
  },
  {
   "cell_type": "markdown",
   "metadata": {},
   "source": [
    "# Outline of training\n",
    "\n",
    "1. Train Deterministic Model (CDNA) for 200 epochs (constant LR = 1e-4) \n",
    "2. Train Unregulated Stochastic Model for 100 epochs (constant LR = 1e-4)\n",
    "3. Train Regulated Stochastic Model for 100 epochs (constant LR = 1e-4)\n"
   ]
  },
  {
   "cell_type": "code",
   "execution_count": 2,
   "metadata": {},
   "outputs": [],
   "source": [
    "loss_path_1 = '../../logs/cdna/stage1/cdna_stage=1_200.log'\n",
    "loss_path_2 = '../../logs/cdna/stage2/cdna_stage=2_100.log'\n",
    "\n",
    "loss_path_3_dot1 = '../../logs/cdna/stage3/finalB=0.1/cdna_stage=3_100.log'\n",
    "loss_path_3_dot0001 = '../../logs/cdna/stage3/finalB=0.0001/cdna_stage=3_100.log'"
   ]
  },
  {
   "cell_type": "markdown",
   "metadata": {},
   "source": [
    "### Step 1\n",
    "\n"
   ]
  },
  {
   "cell_type": "code",
   "execution_count": 5,
   "metadata": {},
   "outputs": [],
   "source": [
    "def plot_losses_stage1(log_path):\n",
    "    \"\"\"\n",
    "    Log files for other models may be formatted differently\n",
    "    \"\"\"\n",
    "\n",
    "    losses = []\n",
    "\n",
    "    with open(log_path) as f:\n",
    "        # ignore first line\n",
    "        for idx, line in enumerate(f):\n",
    "            if \"Namespace\" in line or \"Starting\" in line or \"Train\" in line or \"State\" in line: \n",
    "                pass\n",
    "            elif \"Finished\" in line or \"Saved\" in line or \"Completed\" in line: \n",
    "                pass\n",
    "            else:\n",
    "                x = line.split(\":\")[-1]\n",
    "                x = x.strip(\"\\n\")\n",
    "                losses.append(x)\n",
    "\n",
    "    train_loss = []\n",
    "    \n",
    "    for line in losses:\n",
    "        line = line.split(\",\")\n",
    "        train_loss.append(float(line[0]))\n",
    "\n",
    "    return train_loss"
   ]
  },
  {
   "cell_type": "code",
   "execution_count": 7,
   "metadata": {},
   "outputs": [
    {
     "data": {
      "text/plain": [
       "[<matplotlib.lines.Line2D at 0x7fb264e31890>]"
      ]
     },
     "execution_count": 7,
     "metadata": {},
     "output_type": "execute_result"
    },
    {
     "data": {
      "image/png": "[encoded data removed]",
      "text/plain": [
       "<Figure size 432x288 with 1 Axes>"
      ]
     },
     "metadata": {
      "needs_background": "light"
     },
     "output_type": "display_data"
    }
   ],
   "source": [
    "train_loss1 = plot_losses_stage1(log_path=loss_path_1)\n",
    "plt.plot(train_loss1)"
   ]
  },
  {
   "cell_type": "markdown",
   "metadata": {},
   "source": [
    "### Step 2"
   ]
  },
  {
   "cell_type": "code",
   "execution_count": 8,
   "metadata": {},
   "outputs": [],
   "source": [
    "def plot_losses_stage2(log_path):\n",
    "    \"\"\"\n",
    "    Log files for other models may be formatted differently\n",
    "    \"\"\"\n",
    "\n",
    "    losses = []\n",
    "\n",
    "    with open(log_path) as f:\n",
    "        # ignore first line\n",
    "        for idx, line in enumerate(f):\n",
    "            if \"Namespace\" in line or \"Starting\" in line or \"Train\" in line or \"State\" in line: \n",
    "                pass\n",
    "            elif \"Finished\" in line or \"Saved\" in line or \"Completed\" in line: \n",
    "                pass\n",
    "            else:\n",
    "                x = line.split(\":\")[-1]\n",
    "                x = x.strip(\"\\n\")\n",
    "                losses.append(x)\n",
    "\n",
    "    train_loss = []\n",
    "    kld = []\n",
    "    reconstruction_loss = []\n",
    "\n",
    "    for line in losses:\n",
    "        line = line.split(\",\")\n",
    "        train_loss.append(float(line[0]))\n",
    "        kld.append(float(line[1]))\n",
    "        reconstruction_loss.append(float(line[2]))\n",
    "\n",
    "    return train_loss, kld, reconstruction_loss"
   ]
  },
  {
   "cell_type": "code",
   "execution_count": 16,
   "metadata": {},
   "outputs": [
    {
     "name": "stdout",
     "output_type": "stream",
     "text": [
      "100 100 100\n"
     ]
    }
   ],
   "source": [
    "train_loss2, kld2, mse2 = plot_losses_stage2(loss_path_2)\n",
    "print(len(train_loss2), len(kld2), len(mse2))"
   ]
  },
  {
   "cell_type": "markdown",
   "metadata": {},
   "source": [
    "### Step 3"
   ]
  },
  {
   "cell_type": "code",
   "execution_count": 26,
   "metadata": {},
   "outputs": [
    {
     "name": "stdout",
     "output_type": "stream",
     "text": [
      "100 100 100\n"
     ]
    }
   ],
   "source": [
    "train_loss3_dot1, kld3_dot1, mse3_dot1 = plot_losses_stage2(loss_path_3_dot1)\n",
    "print(len(train_loss3_dot1), len(kld3_dot1), len(mse3_dot1))\n",
    "\n",
    "# plt.plot(kld3_dot1)"
   ]
  },
  {
   "cell_type": "code",
   "execution_count": 27,
   "metadata": {},
   "outputs": [],
   "source": [
    "train_loss3_dot0001, kld3_dot0001, mse3_dot0001 = plot_losses_stage2(loss_path_3_dot0001)"
   ]
  },
  {
   "cell_type": "markdown",
   "metadata": {},
   "source": [
    "### Combine all lists together"
   ]
  },
  {
   "cell_type": "code",
   "execution_count": 43,
   "metadata": {},
   "outputs": [],
   "source": [
    "train_loss_dot1 = train_loss1 + train_loss2 + train_loss3_dot1\n",
    "kld1 = [0] * 200\n",
    "kld_dot1 = kld1 + kld2 + kld3_dot1\n",
    "mse_dot1 = train_loss1 + mse2 + mse3_dot1\n",
    "# mse = mse1 + mse2 + mse3 + mse4 + mse5"
   ]
  },
  {
   "cell_type": "code",
   "execution_count": 30,
   "metadata": {},
   "outputs": [
    {
     "data": {
      "text/plain": [
       "<matplotlib.patches.Polygon at 0x7fb265ee1b90>"
      ]
     },
     "execution_count": 30,
     "metadata": {},
     "output_type": "execute_result"
    },
    {
     "data": {
      "image/png": "[encoded data removed]",
      "text/plain": [
       "<Figure size 432x288 with 1 Axes>"
      ]
     },
     "metadata": {
      "needs_background": "light"
     },
     "output_type": "display_data"
    }
   ],
   "source": [
    "plt.plot(train_loss_dot1)\n",
    "plt.yscale('log')\n",
    "plt.xlabel('Epochs')\n",
    "plt.title('Total Loss')\n",
    "\n",
    "# Settings \n",
    "plt.xlim(xmin=0, xmax = 400)\n",
    "plt.axvspan(0, 200, facecolor='b', alpha=0.1)\n",
    "plt.axvspan(200, 300, facecolor='g', alpha=0.05)\n",
    "plt.axvspan(300, 400, facecolor='g', alpha=0.1)"
   ]
  },
  {
   "cell_type": "code",
   "execution_count": 41,
   "metadata": {},
   "outputs": [
    {
     "data": {
      "text/plain": [
       "<matplotlib.patches.Polygon at 0x7fb2674f7c10>"
      ]
     },
     "execution_count": 41,
     "metadata": {},
     "output_type": "execute_result"
    },
    {
     "data": {
      "image/png": "[encoded data removed]",
      "text/plain": [
       "<Figure size 432x288 with 1 Axes>"
      ]
     },
     "metadata": {
      "needs_background": "light"
     },
     "output_type": "display_data"
    }
   ],
   "source": [
    "plt.plot(kld_dot1)\n",
    "# plt.yscale('log')\n",
    "plt.xlabel('Epochs')\n",
    "plt.title('KL Divergence')\n",
    "\n",
    "# Settings \n",
    "plt.xlim(xmin=0, xmax = 400)\n",
    "plt.ylim(ymin=-50)\n",
    "plt.axvspan(0, 200, facecolor='b', alpha=0.1)\n",
    "plt.axvspan(200, 300, facecolor='g', alpha=0.05)\n",
    "plt.axvspan(300, 400, facecolor='g', alpha=0.1)"
   ]
  },
  {
   "cell_type": "code",
   "execution_count": 47,
   "metadata": {},
   "outputs": [
    {
     "data": {
      "text/plain": [
       "<matplotlib.patches.Polygon at 0x7fb267a54790>"
      ]
     },
     "execution_count": 47,
     "metadata": {},
     "output_type": "execute_result"
    },
    {
     "data": {
      "image/png": "[encoded data removed]",
      "text/plain": [
       "<Figure size 432x288 with 1 Axes>"
      ]
     },
     "metadata": {
      "needs_background": "light"
     },
     "output_type": "display_data"
    }
   ],
   "source": [
    "plt.plot(mse_dot1)\n",
    "plt.yscale('log')\n",
    "plt.xlabel('Epochs')\n",
    "plt.title('MSE(entire image)')\n",
    "\n",
    "# Settings \n",
    "plt.xlim(xmin=0, xmax = 400)\n",
    "plt.axvspan(0, 200, facecolor='b', alpha=0.1)\n",
    "plt.axvspan(200, 300, facecolor='g', alpha=0.05)\n",
    "plt.axvspan(300, 400, facecolor='g', alpha=0.1)"
   ]
  },
  {
   "cell_type": "markdown",
   "metadata": {},
   "source": []
  }
 ],
 "metadata": {
  "interpreter": {
   "hash": "46fa279ed4f7e0173bbb4df60abc98f0d54517d90d227684db4514501155965b"
  },
  "kernelspec": {
   "display_name": "Python 3.7.4 ('base')",
   "language": "python",
   "name": "python3"
  },
  "language_info": {
   "codemirror_mode": {
    "name": "ipython",
    "version": 3
   },
   "file_extension": ".py",
   "mimetype": "text/x-python",
   "name": "python",
   "nbconvert_exporter": "python",
   "pygments_lexer": "ipython3",
   "version": "3.7.4"
  },
  "orig_nbformat": 4
 },
 "nbformat": 4,
 "nbformat_minor": 2
}
